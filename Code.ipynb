{
  "nbformat": 4,
  "nbformat_minor": 0,
  "metadata": {
    "colab": {
      "provenance": []
    },
    "kernelspec": {
      "name": "python3",
      "display_name": "Python 3"
    },
    "language_info": {
      "name": "python"
    }
  },
  "cells": [
    {
      "cell_type": "code",
      "source": [
        "import pandas as pd\n",
        "from sklearn.model_selection import train_test_split, GridSearchCV\n",
        "from sklearn.preprocessing import StandardScaler\n",
        "from sklearn.metrics import classification_report, accuracy_score\n",
        "from sklearn.cluster import KMeans\n",
        "from sklearn.decomposition import PCA\n",
        "from sklearn.svm import SVC\n",
        "from sklearn.ensemble import RandomForestClassifier\n",
        "from sklearn.neighbors import KNeighborsClassifier\n",
        "from sklearn.naive_bayes import GaussianNB\n",
        "from sklearn.tree import DecisionTreeClassifier\n",
        "from sklearn.linear_model import LogisticRegression\n",
        "from sklearn.neural_network import MLPClassifier\n",
        "\n"
      ],
      "metadata": {
        "id": "btZ9J-nedMBP"
      },
      "execution_count": 20,
      "outputs": []
    },
    {
      "cell_type": "code",
      "source": [
        "# Load the dataset\n",
        "data = pd.read_csv('data_ite_v1.csv')\n",
        "\n",
        "# Separate features and target variables\n",
        "X = data.drop(columns=['Hbo_Op1','Hbo_Op2', 'Brand_First_Char', 'ResponseCode'], axis=1)\n",
        "y_brand = data['Brand_First_Char']\n",
        "y_response = data['ResponseCode']\n",
        "\n",
        "# Split the dataset into training and testing set\n",
        "X_train, X_test, y_brand_train, y_brand_test, y_response_train, y_response_test = train_test_split(\n",
        "    X, y_brand, y_response, test_size=0.2, random_state=42\n",
        ")"
      ],
      "metadata": {
        "id": "jKAd2WbWdQVN"
      },
      "execution_count": 2,
      "outputs": []
    },
    {
      "cell_type": "markdown",
      "source": [
        "CLUSTERING\n"
      ],
      "metadata": {
        "id": "TENoYhadh3qh"
      }
    },
    {
      "cell_type": "code",
      "source": [
        "# Feature scaling if necessary / Standardize the features\n",
        "scaler = StandardScaler()\n",
        "X_train_scaled = scaler.fit_transform(X_train)\n",
        "X_test_scaled = scaler.transform(X_test)\n",
        "\n",
        "# Perform clustering using KMeans\n",
        "kmeans = KMeans(n_clusters=3, random_state=42)\n",
        "cluster_labels = kmeans.fit_predict(X)\n",
        "\n",
        "data['Cluster_Labels'] = cluster_labels"
      ],
      "metadata": {
        "colab": {
          "base_uri": "https://localhost:8080/"
        },
        "id": "6SeuRx_qdUvL",
        "outputId": "1e0278f7-a740-418c-a1d6-ec5ea73195f0"
      },
      "execution_count": 3,
      "outputs": [
        {
          "output_type": "stream",
          "name": "stderr",
          "text": [
            "/usr/local/lib/python3.10/dist-packages/sklearn/cluster/_kmeans.py:870: FutureWarning: The default value of `n_init` will change from 10 to 'auto' in 1.4. Set the value of `n_init` explicitly to suppress the warning\n",
            "  warnings.warn(\n"
          ]
        }
      ]
    },
    {
      "cell_type": "markdown",
      "source": [
        "DIMENSIONALITY REDUCTION"
      ],
      "metadata": {
        "id": "MPORC9Vuh-WU"
      }
    },
    {
      "cell_type": "code",
      "source": [
        "# Perform dimensionality reduction using PCA\n",
        "pca = PCA(n_components=2)\n",
        "X_pca = pca.fit_transform(X)\n",
        "\n",
        "data['PCA_Component_1'] = X_pca[:, 0]\n",
        "data['PCA_Component_2'] = X_pca[:, 1]"
      ],
      "metadata": {
        "id": "xNxh-ghsdnsL"
      },
      "execution_count": 4,
      "outputs": []
    },
    {
      "cell_type": "markdown",
      "source": [
        "SUPERVISED LEARNING"
      ],
      "metadata": {
        "id": "O5PzgCV-iPfr"
      }
    },
    {
      "cell_type": "code",
      "source": [
        "# SVM Classifier for 'Brand_First_Char'\n",
        "svm_classifier_brand = SVC(kernel='linear', C=1, random_state=42)\n",
        "svm_classifier_brand.fit(X_train_scaled, y_brand_train)\n",
        "svm_predictions_brand = svm_classifier_brand.predict(X_test_scaled)\n",
        "\n",
        "# Print classification report and accuracy for 'Brand_First_Char'\n",
        "print(\"SVM Classification Report for 'Brand_First_Char':\", classification_report(y_brand_test, svm_predictions_brand))\n",
        "print(\"Accuracy for 'Brand_First_Char':\", accuracy_score(y_brand_test, svm_predictions_brand))\n",
        "\n",
        "\n",
        "\n",
        "# SVM Classifier for 'ResponseCode'\n",
        "svm_classifier_response = SVC(kernel='linear', C=1, random_state=42)\n",
        "svm_classifier_response.fit(X_train_scaled, y_response_train)\n",
        "svm_predictions_response = svm_classifier_response.predict(X_test_scaled)\n",
        "\n",
        "# Print classification report and accuracy for 'ResponseCode'\n",
        "print(\"SVM Classification Report for 'ResponseCode':\", classification_report(y_response_test, svm_predictions_response))\n",
        "print(\"Accuracy for 'ResponseCode':\", accuracy_score(y_response_test, svm_predictions_response))\n"
      ],
      "metadata": {
        "colab": {
          "base_uri": "https://localhost:8080/"
        },
        "id": "pKBQ16E8dqAL",
        "outputId": "a7f742a6-f453-4d95-f7e5-bb698b6e52d7"
      },
      "execution_count": 5,
      "outputs": [
        {
          "output_type": "stream",
          "name": "stdout",
          "text": [
            "SVM Classification Report for 'Brand_First_Char':               precision    recall  f1-score   support\n",
            "\n",
            "           N       0.47      0.42      0.44       312\n",
            "           P       0.66      0.93      0.78       282\n",
            "           R       0.46      0.34      0.39       306\n",
            "\n",
            "    accuracy                           0.55       900\n",
            "   macro avg       0.53      0.56      0.54       900\n",
            "weighted avg       0.53      0.55      0.53       900\n",
            "\n",
            "Accuracy for 'Brand_First_Char': 0.5522222222222222\n",
            "SVM Classification Report for 'ResponseCode':               precision    recall  f1-score   support\n",
            "\n",
            "           0       0.57      0.62      0.59       386\n",
            "           1       0.58      0.70      0.63       391\n",
            "           2       0.00      0.00      0.00       123\n",
            "\n",
            "    accuracy                           0.57       900\n",
            "   macro avg       0.38      0.44      0.41       900\n",
            "weighted avg       0.49      0.57      0.53       900\n",
            "\n",
            "Accuracy for 'ResponseCode': 0.5711111111111111\n"
          ]
        },
        {
          "output_type": "stream",
          "name": "stderr",
          "text": [
            "/usr/local/lib/python3.10/dist-packages/sklearn/metrics/_classification.py:1344: UndefinedMetricWarning: Precision and F-score are ill-defined and being set to 0.0 in labels with no predicted samples. Use `zero_division` parameter to control this behavior.\n",
            "  _warn_prf(average, modifier, msg_start, len(result))\n",
            "/usr/local/lib/python3.10/dist-packages/sklearn/metrics/_classification.py:1344: UndefinedMetricWarning: Precision and F-score are ill-defined and being set to 0.0 in labels with no predicted samples. Use `zero_division` parameter to control this behavior.\n",
            "  _warn_prf(average, modifier, msg_start, len(result))\n",
            "/usr/local/lib/python3.10/dist-packages/sklearn/metrics/_classification.py:1344: UndefinedMetricWarning: Precision and F-score are ill-defined and being set to 0.0 in labels with no predicted samples. Use `zero_division` parameter to control this behavior.\n",
            "  _warn_prf(average, modifier, msg_start, len(result))\n"
          ]
        }
      ]
    },
    {
      "cell_type": "code",
      "source": [
        "# Random Forest Classifier for 'Brand_First_Char'\n",
        "rf_classifier_brand = RandomForestClassifier(n_estimators=100, random_state=42)\n",
        "rf_classifier_brand.fit(X_train_scaled, y_brand_train)\n",
        "rf_predictions_brand = rf_classifier_brand.predict(X_test_scaled)\n",
        "\n",
        "# Print classification report and accuracy for 'Brand_First_Char'\n",
        "print(\"Random Forest Classification Report for 'Brand_First_Char':\", classification_report(y_brand_test, rf_predictions_brand))\n",
        "print(\"Accuracy for 'Brand_First_Char':\", accuracy_score(y_brand_test, rf_predictions_brand))\n",
        "\n",
        "\n",
        "\n",
        "# Random Forest Classifier for 'ResponseCode'\n",
        "rf_classifier_response = RandomForestClassifier(n_estimators=100, random_state=42)\n",
        "rf_classifier_response.fit(X_train_scaled, y_response_train)\n",
        "rf_predictions_response = rf_classifier_response.predict(X_test_scaled)\n",
        "\n",
        "# Print classification report and accuracy for 'ResponseCode'\n",
        "print(\"\\nRandom Forest Classification Report for 'ResponseCode':\", classification_report(y_response_test, rf_predictions_response))\n",
        "print(\"Accuracy for 'ResponseCode':\", accuracy_score(y_response_test, rf_predictions_response))\n"
      ],
      "metadata": {
        "colab": {
          "base_uri": "https://localhost:8080/"
        },
        "id": "X0w0yTQddrPv",
        "outputId": "4a33eee5-9523-4f44-aa41-6c5b9e1d8bd5"
      },
      "execution_count": 6,
      "outputs": [
        {
          "output_type": "stream",
          "name": "stdout",
          "text": [
            "Random Forest Classification Report for 'Brand_First_Char':               precision    recall  f1-score   support\n",
            "\n",
            "           N       0.57      0.57      0.57       312\n",
            "           P       0.90      0.90      0.90       282\n",
            "           R       0.54      0.53      0.53       306\n",
            "\n",
            "    accuracy                           0.66       900\n",
            "   macro avg       0.67      0.67      0.67       900\n",
            "weighted avg       0.66      0.66      0.66       900\n",
            "\n",
            "Accuracy for 'Brand_First_Char': 0.6622222222222223\n",
            "\n",
            "Random Forest Classification Report for 'ResponseCode':               precision    recall  f1-score   support\n",
            "\n",
            "           0       0.73      0.92      0.81       386\n",
            "           1       0.83      0.80      0.81       391\n",
            "           2       0.97      0.28      0.44       123\n",
            "\n",
            "    accuracy                           0.78       900\n",
            "   macro avg       0.84      0.67      0.69       900\n",
            "weighted avg       0.80      0.78      0.76       900\n",
            "\n",
            "Accuracy for 'ResponseCode': 0.7777777777777778\n"
          ]
        }
      ]
    },
    {
      "cell_type": "code",
      "source": [
        "# KNN Classifier for 'Brand_First_Char'\n",
        "knn_classifier_brand = KNeighborsClassifier(n_neighbors=3)\n",
        "knn_classifier_brand.fit(X_train_scaled, y_brand_train)\n",
        "knn_predictions_brand = knn_classifier_brand.predict(X_test_scaled)\n",
        "\n",
        "# Print classification report and accuracy for 'Brand_First_Char'\n",
        "print(\"KNN Classification Report for 'Brand_First_Char':\", classification_report(y_brand_test, knn_predictions_brand))\n",
        "print(\"Accuracy for 'Brand_First_Char':\", accuracy_score(y_brand_test, knn_predictions_brand))\n",
        "\n",
        "\n",
        "# KNN Classifier for 'ResponseCode'\n",
        "knn_classifier_response = KNeighborsClassifier(n_neighbors=3)\n",
        "knn_classifier_response.fit(X_train_scaled, y_response_train)\n",
        "knn_predictions_response = knn_classifier_response.predict(X_test_scaled)\n",
        "\n",
        "# Print classification report and accuracy for 'ResponseCode'\n",
        "print(\"\\nKNN Classification Report for 'ResponseCode':\", classification_report(y_response_test, knn_predictions_response))\n",
        "print(\"Accuracy for 'ResponseCode':\", accuracy_score(y_response_test, knn_predictions_response))\n"
      ],
      "metadata": {
        "colab": {
          "base_uri": "https://localhost:8080/"
        },
        "id": "E4ur473xdtwz",
        "outputId": "23697d13-9bfb-44a5-e963-3d135aa862f2"
      },
      "execution_count": 7,
      "outputs": [
        {
          "output_type": "stream",
          "name": "stdout",
          "text": [
            "KNN Classification Report for 'Brand_First_Char':               precision    recall  f1-score   support\n",
            "\n",
            "           N       0.36      0.44      0.40       312\n",
            "           P       0.52      0.51      0.52       282\n",
            "           R       0.39      0.31      0.34       306\n",
            "\n",
            "    accuracy                           0.42       900\n",
            "   macro avg       0.42      0.42      0.42       900\n",
            "weighted avg       0.42      0.42      0.42       900\n",
            "\n",
            "Accuracy for 'Brand_First_Char': 0.4166666666666667\n",
            "\n",
            "KNN Classification Report for 'ResponseCode':               precision    recall  f1-score   support\n",
            "\n",
            "           0       0.46      0.56      0.51       386\n",
            "           1       0.50      0.52      0.51       391\n",
            "           2       0.04      0.01      0.01       123\n",
            "\n",
            "    accuracy                           0.47       900\n",
            "   macro avg       0.33      0.36      0.34       900\n",
            "weighted avg       0.42      0.47      0.44       900\n",
            "\n",
            "Accuracy for 'ResponseCode': 0.4666666666666667\n"
          ]
        }
      ]
    },
    {
      "cell_type": "code",
      "source": [
        "param_grid_logistic_regression = {\n",
        "    'C': [0.1, 0.5, 1],\n",
        "}\n",
        "\n",
        "# Logistic Regression Classifier for 'Brand_First_Char'\n",
        "logistic_regression_brand = LogisticRegression(random_state=42)\n",
        "grid_search_logistic_regression_brand = GridSearchCV(estimator=logistic_regression_brand, param_grid=param_grid_logistic_regression, cv=5, scoring='accuracy')\n",
        "grid_search_logistic_regression_brand.fit(X_train_scaled, y_brand_train)\n",
        "\n",
        "# Get the best Logistic Regression model for 'Brand_First_Char'\n",
        "best_logistic_regression_brand = grid_search_logistic_regression_brand.best_estimator_\n",
        "logistic_regression_predictions_brand = best_logistic_regression_brand.predict(X_test_scaled)\n",
        "\n",
        "# Print the best hyperparameters and classification report for 'Brand_First_Char' using Logistic Regression\n",
        "print(\"Best Logistic Regression Hyperparameters for 'Brand_First_Char':\", grid_search_logistic_regression_brand.best_params_)\n",
        "print(\"Logistic Regression Classification Report for 'Brand_First_Char':\", classification_report(y_brand_test, logistic_regression_predictions_brand))\n",
        "print(\"Accuracy for 'Brand_First_Char' using Logistic Regression:\", accuracy_score(y_brand_test, logistic_regression_predictions_brand))\n",
        "\n",
        "\n",
        "\n",
        "\n",
        "# Logistic Regression Classifier for 'ResponseCode'\n",
        "logistic_regression_response = LogisticRegression(random_state=42)\n",
        "grid_search_logistic_regression_response = GridSearchCV(estimator=logistic_regression_response, param_grid=param_grid_logistic_regression, cv=5, scoring='accuracy')\n",
        "grid_search_logistic_regression_response.fit(X_train_scaled, y_response_train)\n",
        "\n",
        "# Get the best Logistic Regression model for 'ResponseCode'\n",
        "best_logistic_regression_response = grid_search_logistic_regression_response.best_estimator_\n",
        "logistic_regression_predictions_response = best_logistic_regression_response.predict(X_test_scaled)\n",
        "\n",
        "# Print the best hyperparameters and classification report for 'ResponseCode' using Logistic Regression\n",
        "print(\"\\nBest Logistic Regression Hyperparameters for 'ResponseCode':\", grid_search_logistic_regression_response.best_params_)\n",
        "print(\"Logistic Regression Classification Report for 'ResponseCode':\", classification_report(y_response_test, logistic_regression_predictions_response))\n",
        "print(\"Accuracy for 'ResponseCode' using Logistic Regression:\", accuracy_score(y_response_test, logistic_regression_predictions_response))\n"
      ],
      "metadata": {
        "colab": {
          "base_uri": "https://localhost:8080/"
        },
        "id": "x_2GnL5TgJ8r",
        "outputId": "749f7f6f-02de-4c4e-96b6-2a5f97b1f973"
      },
      "execution_count": 16,
      "outputs": [
        {
          "output_type": "stream",
          "name": "stderr",
          "text": [
            "/usr/local/lib/python3.10/dist-packages/sklearn/linear_model/_logistic.py:458: ConvergenceWarning: lbfgs failed to converge (status=1):\n",
            "STOP: TOTAL NO. of ITERATIONS REACHED LIMIT.\n",
            "\n",
            "Increase the number of iterations (max_iter) or scale the data as shown in:\n",
            "    https://scikit-learn.org/stable/modules/preprocessing.html\n",
            "Please also refer to the documentation for alternative solver options:\n",
            "    https://scikit-learn.org/stable/modules/linear_model.html#logistic-regression\n",
            "  n_iter_i = _check_optimize_result(\n",
            "/usr/local/lib/python3.10/dist-packages/sklearn/linear_model/_logistic.py:458: ConvergenceWarning: lbfgs failed to converge (status=1):\n",
            "STOP: TOTAL NO. of ITERATIONS REACHED LIMIT.\n",
            "\n",
            "Increase the number of iterations (max_iter) or scale the data as shown in:\n",
            "    https://scikit-learn.org/stable/modules/preprocessing.html\n",
            "Please also refer to the documentation for alternative solver options:\n",
            "    https://scikit-learn.org/stable/modules/linear_model.html#logistic-regression\n",
            "  n_iter_i = _check_optimize_result(\n",
            "/usr/local/lib/python3.10/dist-packages/sklearn/linear_model/_logistic.py:458: ConvergenceWarning: lbfgs failed to converge (status=1):\n",
            "STOP: TOTAL NO. of ITERATIONS REACHED LIMIT.\n",
            "\n",
            "Increase the number of iterations (max_iter) or scale the data as shown in:\n",
            "    https://scikit-learn.org/stable/modules/preprocessing.html\n",
            "Please also refer to the documentation for alternative solver options:\n",
            "    https://scikit-learn.org/stable/modules/linear_model.html#logistic-regression\n",
            "  n_iter_i = _check_optimize_result(\n",
            "/usr/local/lib/python3.10/dist-packages/sklearn/linear_model/_logistic.py:458: ConvergenceWarning: lbfgs failed to converge (status=1):\n",
            "STOP: TOTAL NO. of ITERATIONS REACHED LIMIT.\n",
            "\n",
            "Increase the number of iterations (max_iter) or scale the data as shown in:\n",
            "    https://scikit-learn.org/stable/modules/preprocessing.html\n",
            "Please also refer to the documentation for alternative solver options:\n",
            "    https://scikit-learn.org/stable/modules/linear_model.html#logistic-regression\n",
            "  n_iter_i = _check_optimize_result(\n"
          ]
        },
        {
          "output_type": "stream",
          "name": "stdout",
          "text": [
            "Best Logistic Regression Hyperparameters for 'Brand_First_Char': {'C': 1}\n",
            "Logistic Regression Classification Report for 'Brand_First_Char':               precision    recall  f1-score   support\n",
            "\n",
            "           N       0.46      0.37      0.41       312\n",
            "           P       0.65      0.93      0.77       282\n",
            "           R       0.46      0.38      0.41       306\n",
            "\n",
            "    accuracy                           0.55       900\n",
            "   macro avg       0.53      0.56      0.53       900\n",
            "weighted avg       0.52      0.55      0.52       900\n",
            "\n",
            "Accuracy for 'Brand_First_Char' using Logistic Regression: 0.5466666666666666\n"
          ]
        },
        {
          "output_type": "stream",
          "name": "stderr",
          "text": [
            "/usr/local/lib/python3.10/dist-packages/sklearn/linear_model/_logistic.py:458: ConvergenceWarning: lbfgs failed to converge (status=1):\n",
            "STOP: TOTAL NO. of ITERATIONS REACHED LIMIT.\n",
            "\n",
            "Increase the number of iterations (max_iter) or scale the data as shown in:\n",
            "    https://scikit-learn.org/stable/modules/preprocessing.html\n",
            "Please also refer to the documentation for alternative solver options:\n",
            "    https://scikit-learn.org/stable/modules/linear_model.html#logistic-regression\n",
            "  n_iter_i = _check_optimize_result(\n",
            "/usr/local/lib/python3.10/dist-packages/sklearn/linear_model/_logistic.py:458: ConvergenceWarning: lbfgs failed to converge (status=1):\n",
            "STOP: TOTAL NO. of ITERATIONS REACHED LIMIT.\n",
            "\n",
            "Increase the number of iterations (max_iter) or scale the data as shown in:\n",
            "    https://scikit-learn.org/stable/modules/preprocessing.html\n",
            "Please also refer to the documentation for alternative solver options:\n",
            "    https://scikit-learn.org/stable/modules/linear_model.html#logistic-regression\n",
            "  n_iter_i = _check_optimize_result(\n",
            "/usr/local/lib/python3.10/dist-packages/sklearn/linear_model/_logistic.py:458: ConvergenceWarning: lbfgs failed to converge (status=1):\n",
            "STOP: TOTAL NO. of ITERATIONS REACHED LIMIT.\n",
            "\n",
            "Increase the number of iterations (max_iter) or scale the data as shown in:\n",
            "    https://scikit-learn.org/stable/modules/preprocessing.html\n",
            "Please also refer to the documentation for alternative solver options:\n",
            "    https://scikit-learn.org/stable/modules/linear_model.html#logistic-regression\n",
            "  n_iter_i = _check_optimize_result(\n",
            "/usr/local/lib/python3.10/dist-packages/sklearn/linear_model/_logistic.py:458: ConvergenceWarning: lbfgs failed to converge (status=1):\n",
            "STOP: TOTAL NO. of ITERATIONS REACHED LIMIT.\n",
            "\n",
            "Increase the number of iterations (max_iter) or scale the data as shown in:\n",
            "    https://scikit-learn.org/stable/modules/preprocessing.html\n",
            "Please also refer to the documentation for alternative solver options:\n",
            "    https://scikit-learn.org/stable/modules/linear_model.html#logistic-regression\n",
            "  n_iter_i = _check_optimize_result(\n",
            "/usr/local/lib/python3.10/dist-packages/sklearn/linear_model/_logistic.py:458: ConvergenceWarning: lbfgs failed to converge (status=1):\n",
            "STOP: TOTAL NO. of ITERATIONS REACHED LIMIT.\n",
            "\n",
            "Increase the number of iterations (max_iter) or scale the data as shown in:\n",
            "    https://scikit-learn.org/stable/modules/preprocessing.html\n",
            "Please also refer to the documentation for alternative solver options:\n",
            "    https://scikit-learn.org/stable/modules/linear_model.html#logistic-regression\n",
            "  n_iter_i = _check_optimize_result(\n"
          ]
        },
        {
          "output_type": "stream",
          "name": "stdout",
          "text": [
            "\n",
            "Best Logistic Regression Hyperparameters for 'ResponseCode': {'C': 1}\n",
            "Logistic Regression Classification Report for 'ResponseCode':               precision    recall  f1-score   support\n",
            "\n",
            "           0       0.57      0.61      0.59       386\n",
            "           1       0.58      0.72      0.64       391\n",
            "           2       0.00      0.00      0.00       123\n",
            "\n",
            "    accuracy                           0.57       900\n",
            "   macro avg       0.38      0.44      0.41       900\n",
            "weighted avg       0.50      0.57      0.53       900\n",
            "\n",
            "Accuracy for 'ResponseCode' using Logistic Regression: 0.5711111111111111\n"
          ]
        }
      ]
    },
    {
      "cell_type": "code",
      "source": [
        "# Decision Tree Classifier for 'Brand_First_Char'\n",
        "decision_tree_brand = DecisionTreeClassifier(random_state=42)\n",
        "decision_tree_brand.fit(X_train_scaled, y_brand_train)\n",
        "decision_tree_predictions_brand = decision_tree_brand.predict(X_test_scaled)\n",
        "\n",
        "# Print classification report and accuracy for 'Brand_First_Char'\n",
        "print(\"\\nDecision Tree Classification Report for 'Brand_First_Char':\", classification_report(y_brand_test, decision_tree_predictions_brand))\n",
        "print(\"Accuracy for 'Brand_First_Char' using Decision Tree:\", accuracy_score(y_brand_test, decision_tree_predictions_brand))\n",
        "\n",
        "\n",
        "\n",
        "# Decision Tree Classifier for 'ResponseCode'\n",
        "decision_tree_response = DecisionTreeClassifier(random_state=42)\n",
        "decision_tree_response.fit(X_train_scaled, y_response_train)\n",
        "decision_tree_predictions_response = decision_tree_response.predict(X_test_scaled)\n",
        "\n",
        "# Print classification report and accuracy for 'ResponseCode'\n",
        "print(\"\\nDecision Tree Classification Report for 'ResponseCode':\", classification_report(y_response_test, decision_tree_predictions_response))\n",
        "print(\"Accuracy for 'ResponseCode' using Decision Tree:\", accuracy_score(y_response_test, decision_tree_predictions_response))"
      ],
      "metadata": {
        "colab": {
          "base_uri": "https://localhost:8080/"
        },
        "id": "HMP-Syd6fm7R",
        "outputId": "860a057b-b1cc-4d7d-e5e9-f919bc7bbd91"
      },
      "execution_count": 17,
      "outputs": [
        {
          "output_type": "stream",
          "name": "stdout",
          "text": [
            "\n",
            "Decision Tree Classification Report for 'Brand_First_Char':               precision    recall  f1-score   support\n",
            "\n",
            "           N       0.52      0.49      0.51       312\n",
            "           P       0.83      0.82      0.82       282\n",
            "           R       0.50      0.53      0.51       306\n",
            "\n",
            "    accuracy                           0.61       900\n",
            "   macro avg       0.61      0.61      0.61       900\n",
            "weighted avg       0.61      0.61      0.61       900\n",
            "\n",
            "Accuracy for 'Brand_First_Char' using Decision Tree: 0.6077777777777778\n",
            "\n",
            "Decision Tree Classification Report for 'ResponseCode':               precision    recall  f1-score   support\n",
            "\n",
            "           0       0.73      0.74      0.73       386\n",
            "           1       0.77      0.72      0.75       391\n",
            "           2       0.38      0.43      0.40       123\n",
            "\n",
            "    accuracy                           0.69       900\n",
            "   macro avg       0.62      0.63      0.63       900\n",
            "weighted avg       0.70      0.69      0.69       900\n",
            "\n",
            "Accuracy for 'ResponseCode' using Decision Tree: 0.69\n"
          ]
        }
      ]
    },
    {
      "cell_type": "code",
      "source": [
        "# Gaussian Naive Bayes Classifier for 'Brand_First_Char'\n",
        "naive_bayes_brand = GaussianNB()\n",
        "naive_bayes_brand.fit(X_train_scaled, y_brand_train)\n",
        "naive_bayes_predictions_brand = naive_bayes_brand.predict(X_test_scaled)\n",
        "\n",
        "# Print classification report and accuracy for 'Brand_First_Char'\n",
        "print(\"\\nGaussian Naive Bayes Classification Report for 'Brand_First_Char':\", classification_report(y_brand_test, naive_bayes_predictions_brand))\n",
        "print(\"Accuracy for 'Brand_First_Char' using Gaussian Naive Bayes:\", accuracy_score(y_brand_test, naive_bayes_predictions_brand))\n",
        "\n",
        "# Gaussian Naive Bayes Classifier for 'ResponseCode'\n",
        "naive_bayes_response = GaussianNB()\n",
        "naive_bayes_response.fit(X_train_scaled, y_response_train)\n",
        "naive_bayes_predictions_response = naive_bayes_response.predict(X_test_scaled)\n",
        "\n",
        "# Print classification report and accuracy for 'ResponseCode'\n",
        "print(\"\\nGaussian Naive Bayes Classification Report for 'ResponseCode':\", classification_report(y_response_test, naive_bayes_predictions_response))\n",
        "print(\"Accuracy for 'ResponseCode' using Gaussian Naive Bayes:\", accuracy_score(y_response_test, naive_bayes_predictions_response))\n"
      ],
      "metadata": {
        "colab": {
          "base_uri": "https://localhost:8080/"
        },
        "id": "CHgkzVjxfroZ",
        "outputId": "7b367fa6-4836-4be0-f470-ce4404fc3762"
      },
      "execution_count": 18,
      "outputs": [
        {
          "output_type": "stream",
          "name": "stdout",
          "text": [
            "\n",
            "Gaussian Naive Bayes Classification Report for 'Brand_First_Char':               precision    recall  f1-score   support\n",
            "\n",
            "           N       0.48      0.50      0.49       312\n",
            "           P       0.60      0.84      0.70       282\n",
            "           R       0.46      0.27      0.34       306\n",
            "\n",
            "    accuracy                           0.53       900\n",
            "   macro avg       0.51      0.54      0.51       900\n",
            "weighted avg       0.51      0.53      0.51       900\n",
            "\n",
            "Accuracy for 'Brand_First_Char' using Gaussian Naive Bayes: 0.53\n",
            "\n",
            "Gaussian Naive Bayes Classification Report for 'ResponseCode':               precision    recall  f1-score   support\n",
            "\n",
            "           0       0.58      0.48      0.53       386\n",
            "           1       0.56      0.61      0.59       391\n",
            "           2       0.16      0.20      0.18       123\n",
            "\n",
            "    accuracy                           0.50       900\n",
            "   macro avg       0.43      0.43      0.43       900\n",
            "weighted avg       0.51      0.50      0.50       900\n",
            "\n",
            "Accuracy for 'ResponseCode' using Gaussian Naive Bayes: 0.5011111111111111\n"
          ]
        }
      ]
    },
    {
      "cell_type": "code",
      "source": [
        "# MLP Classifier for 'Brand_First_Char'\n",
        "mlp_classifier_brand = MLPClassifier(random_state=42)\n",
        "mlp_classifier_brand.fit(X_train_scaled, y_brand_train)\n",
        "mlp_predictions_brand = mlp_classifier_brand.predict(X_test_scaled)\n",
        "\n",
        "# Print classification report and accuracy for 'Brand_First_Char'\n",
        "print(\"\\nMLP Classification Report for 'Brand_First_Char':\", classification_report(y_brand_test, mlp_predictions_brand))\n",
        "print(\"Accuracy for 'Brand_First_Char' using MLP:\", accuracy_score(y_brand_test, mlp_predictions_brand))\n",
        "\n",
        "# MLP Classifier for 'ResponseCode'\n",
        "mlp_classifier_response = MLPClassifier(random_state=42)\n",
        "mlp_classifier_response.fit(X_train_scaled, y_response_train)\n",
        "mlp_predictions_response = mlp_classifier_response.predict(X_test_scaled)\n",
        "\n",
        "# Print classification report and accuracy for 'ResponseCode'\n",
        "print(\"\\nMLP Classification Report for 'ResponseCode':\", classification_report(y_response_test, mlp_predictions_response))\n",
        "print(\"Accuracy for 'ResponseCode' using MLP:\", accuracy_score(y_response_test, mlp_predictions_response))"
      ],
      "metadata": {
        "colab": {
          "base_uri": "https://localhost:8080/"
        },
        "id": "kCtp9vFvfvl6",
        "outputId": "b399b5ee-ccaf-4337-c01d-50c771eff26e"
      },
      "execution_count": 21,
      "outputs": [
        {
          "output_type": "stream",
          "name": "stderr",
          "text": [
            "/usr/local/lib/python3.10/dist-packages/sklearn/neural_network/_multilayer_perceptron.py:686: ConvergenceWarning: Stochastic Optimizer: Maximum iterations (200) reached and the optimization hasn't converged yet.\n",
            "  warnings.warn(\n"
          ]
        },
        {
          "output_type": "stream",
          "name": "stdout",
          "text": [
            "\n",
            "MLP Classification Report for 'Brand_First_Char':               precision    recall  f1-score   support\n",
            "\n",
            "           N       0.50      0.50      0.50       312\n",
            "           P       0.74      0.82      0.78       282\n",
            "           R       0.48      0.43      0.46       306\n",
            "\n",
            "    accuracy                           0.58       900\n",
            "   macro avg       0.57      0.58      0.58       900\n",
            "weighted avg       0.57      0.58      0.57       900\n",
            "\n",
            "Accuracy for 'Brand_First_Char' using MLP: 0.5766666666666667\n",
            "\n",
            "MLP Classification Report for 'ResponseCode':               precision    recall  f1-score   support\n",
            "\n",
            "           0       0.56      0.60      0.58       386\n",
            "           1       0.57      0.62      0.60       391\n",
            "           2       0.20      0.10      0.13       123\n",
            "\n",
            "    accuracy                           0.54       900\n",
            "   macro avg       0.45      0.44      0.44       900\n",
            "weighted avg       0.52      0.54      0.53       900\n",
            "\n",
            "Accuracy for 'ResponseCode' using MLP: 0.5433333333333333\n"
          ]
        },
        {
          "output_type": "stream",
          "name": "stderr",
          "text": [
            "/usr/local/lib/python3.10/dist-packages/sklearn/neural_network/_multilayer_perceptron.py:686: ConvergenceWarning: Stochastic Optimizer: Maximum iterations (200) reached and the optimization hasn't converged yet.\n",
            "  warnings.warn(\n"
          ]
        }
      ]
    }
  ]
}